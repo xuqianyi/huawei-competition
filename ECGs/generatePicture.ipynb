{
 "cells": [
  {
   "cell_type": "markdown",
   "id": "7b170538",
   "metadata": {},
   "source": [
    "注意 torch 和别的包会冲突，运行生成 npy 文件之后重启一下内核再运行别的"
   ]
  },
  {
   "cell_type": "code",
   "execution_count": 1,
   "id": "c066c068",
   "metadata": {},
   "outputs": [],
   "source": [
    "import numpy as np\n",
    "from tqdm import tqdm\n",
    "import matplotlib.pyplot as plt\n",
    "import matplotlib.ticker as ticker\n",
    "import os\n",
    "import warnings\n",
    "warnings.filterwarnings('ignore')"
   ]
  },
  {
   "cell_type": "code",
   "execution_count": 2,
   "id": "6e2449fe",
   "metadata": {},
   "outputs": [],
   "source": [
    "def major_formatter(x, pos):\n",
    "    if x % 200 == 0:\n",
    "        return int(x)\n",
    "    return \"\"\n",
    "\n",
    "def getFileName(path):\n",
    "    file_list = []\n",
    "    with os.scandir(directory) as entries:\n",
    "        for entry in entries:\n",
    "            if entry.is_file():\n",
    "                file_list.append(entry.name)\n",
    "    return file_list"
   ]
  },
  {
   "cell_type": "code",
   "execution_count": 3,
   "id": "cdfa22e6",
   "metadata": {},
   "outputs": [
    {
     "name": "stderr",
     "output_type": "stream",
     "text": [
      "100%|██████████████████████████████████████████████████████████████████████████████| 100/100 [00:00<00:00, 3991.80it/s]\n"
     ]
    }
   ],
   "source": [
    "# 生成 npy 文件\n",
    "import torch\n",
    "data_path = 'val.pt'\n",
    "data_num = 100\n",
    "train_dataset = torch.load(data_path)\n",
    "X_train = train_dataset['samples']\n",
    "train_dataset_sample = X_train[0:data_num]\n",
    "save_directory = 'npy_files//'\n",
    "for i in tqdm(range(data_num)):\n",
    "    filename = f\"{save_directory}row_{i+1}.npy\"\n",
    "    np.save(filename, train_dataset_sample[i])"
   ]
  },
  {
   "cell_type": "code",
   "execution_count": 3,
   "id": "52066756",
   "metadata": {},
   "outputs": [],
   "source": [
    "# 生成图片文件\n",
    "directory  = 'npy_files'\n",
    "lead_names = ['I', 'II', 'III', 'aVR', 'aVL', 'aVF', 'V1', 'V2', 'V3', 'V4', 'V5', 'V6']\n",
    "with os.scandir(directory) as entries:\n",
    "    for entry in entries:\n",
    "        if entry.is_file():\n",
    "            data = np.load(directory + '//' + entry.name)\n",
    "            fig, ax = plt.subplots(figsize=(10, 12))\n",
    "            offset = 0\n",
    "\n",
    "            for i in range(12):\n",
    "                ax.plot(data[i] + offset, color = 'black')\n",
    "                ax.set_ylabel('Lead name')\n",
    "                ax.set_xlabel('Time (ms)')\n",
    "                text_position_x = -10\n",
    "                text_position_y = data[i][-1] + offset\n",
    "                ax.text(text_position_x, text_position_y, lead_names[i], verticalalignment='center')\n",
    "                ax.set_yticklabels([])\n",
    "                ax.grid(True, color='red', linewidth=0.5)\n",
    "                ax.xaxis.set_major_locator(ticker.MultipleLocator(20))\n",
    "                ax.yaxis.set_major_locator(ticker.MultipleLocator(1))\n",
    "                ax.xaxis.set_major_formatter(ticker.FuncFormatter(major_formatter))\n",
    "                offset -= 12\n",
    "\n",
    "            plt.tight_layout()\n",
    "            plt.savefig('images//' + entry.name[0:-4] + '.png')\n",
    "            plt.close()"
   ]
  },
  {
   "cell_type": "code",
   "execution_count": null,
   "id": "be9ba68a",
   "metadata": {},
   "outputs": [],
   "source": []
  }
 ],
 "metadata": {
  "kernelspec": {
   "display_name": "python38",
   "language": "python",
   "name": "python38"
  },
  "language_info": {
   "codemirror_mode": {
    "name": "ipython",
    "version": 3
   },
   "file_extension": ".py",
   "mimetype": "text/x-python",
   "name": "python",
   "nbconvert_exporter": "python",
   "pygments_lexer": "ipython3",
   "version": "3.8.0"
  }
 },
 "nbformat": 4,
 "nbformat_minor": 5
}
