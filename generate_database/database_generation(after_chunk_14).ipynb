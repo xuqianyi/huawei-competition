{
 "cells": [
  {
   "cell_type": "code",
   "execution_count": 1,
   "metadata": {
    "ExecuteTime": {
     "end_time": "2023-09-09T06:18:38.154342Z",
     "start_time": "2023-09-09T06:18:36.813928Z"
    }
   },
   "outputs": [],
   "source": [
    "import matplotlib.pyplot as plt\n",
    "import numpy as np\n",
    "import torch\n",
    "import pandas as pd"
   ]
  },
  {
   "cell_type": "code",
   "execution_count": 2,
   "metadata": {
    "ExecuteTime": {
     "end_time": "2023-09-09T06:18:38.383837Z",
     "start_time": "2023-09-09T06:18:38.155235Z"
    }
   },
   "outputs": [
    {
     "name": "stdout",
     "output_type": "stream",
     "text": [
      "{'samples': tensor([[[-3.5975e-01, -3.3411e-01, -2.8284e-01,  ..., -2.2301e-01,\n",
      "           3.6669e-01,  3.0417e+00],\n",
      "         [-2.9566e-01, -2.8711e-01, -2.6574e-01,  ..., -1.2870e+00,\n",
      "          -1.1759e+00,  1.0931e+00],\n",
      "         [ 6.7568e-02,  5.0475e-02,  2.0563e-02,  ..., -1.0606e+00,\n",
      "          -1.5392e+00, -1.9451e+00],\n",
      "         ...,\n",
      "         [-5.5205e-01, -5.3923e-01, -5.1359e-01,  ..., -7.9990e-01,\n",
      "           1.2739e-01,  2.8494e+00],\n",
      "         [-2.2314e+00, -2.1545e+00, -2.0733e+00,  ..., -4.2385e-01,\n",
      "          -2.5292e-01,  1.8239e+00],\n",
      "         [ 4.3365e+00,  4.3579e+00,  4.4006e+00,  ...,  1.9179e+00,\n",
      "           1.8880e+00,  3.2554e+00]],\n",
      "\n",
      "        [[-9.3498e-03, -4.3536e-02, -6.9175e-02,  ..., -4.3424e+00,\n",
      "          -4.2099e+00, -4.2142e+00],\n",
      "         [-3.9394e-01, -4.2385e-01, -4.3240e-01,  ..., -4.5048e+00,\n",
      "          -4.4407e+00, -4.3509e+00],\n",
      "         [-3.8112e-01, -3.7685e-01, -3.5975e-01,  ..., -1.5891e-01,\n",
      "          -2.2728e-01, -1.3755e-01],\n",
      "         ...,\n",
      "         [-2.5292e-01, -2.4010e-01, -2.1446e-01,  ..., -1.4609e-01,\n",
      "          -1.4609e-01, -1.6746e-01],\n",
      "         [ 3.6357e+00,  3.6314e+00,  3.6314e+00,  ..., -2.5818e+00,\n",
      "          -2.5305e+00, -2.6331e+00],\n",
      "         [-2.7314e+00, -2.7186e+00, -2.6929e+00,  ...,  2.8024e+00,\n",
      "           2.8067e+00,  2.6144e+00]],\n",
      "\n",
      "        [[-7.1016e-01, -6.5888e-01, -7.3580e-01,  ..., -4.3536e-02,\n",
      "          -8.6268e-02, -1.2045e-01],\n",
      "         [-5.5632e-01, -4.9222e-01, -5.5632e-01,  ..., -1.4182e-01,\n",
      "          -1.7173e-01, -1.6319e-01],\n",
      "         [ 1.5731e-01,  1.7440e-01,  1.7867e-01,  ..., -9.4814e-02,\n",
      "          -8.1995e-02, -4.3536e-02],\n",
      "         ...,\n",
      "         [-6.0628e-02, -4.3536e-02, -1.3623e-02,  ...,  3.4698e-03,\n",
      "           3.4698e-03,  3.4698e-03],\n",
      "         [-1.3623e-02,  7.7431e-03,  4.1929e-02,  ..., -1.7173e-01,\n",
      "          -1.3755e-01, -1.1191e-01],\n",
      "         [ 2.9109e-02,  5.0475e-02,  8.4661e-02,  ..., -2.1019e-01,\n",
      "          -1.9310e-01, -1.9310e-01]],\n",
      "\n",
      "        ...,\n",
      "\n",
      "        [[-1.5037e-01, -5.6355e-02, -4.3536e-02,  ...,  3.4698e-03,\n",
      "           2.0563e-02,  8.4661e-02],\n",
      "         [ 1.8722e-01,  2.5559e-01,  2.3422e-01,  ..., -4.1103e-01,\n",
      "          -4.2813e-01, -4.1958e-01],\n",
      "         [ 3.4105e-01,  3.1541e-01,  2.8123e-01,  ..., -4.0676e-01,\n",
      "          -4.4522e-01, -5.0077e-01],\n",
      "         ...,\n",
      "         [ 1.2016e-02, -6.9175e-02, -1.4182e-01,  ..., -3.0716e-02,\n",
      "           3.3678e-01,  1.7769e+00],\n",
      "         [ 5.9022e-02, -2.6443e-02, -1.2045e-01,  ...,  8.4661e-02,\n",
      "           1.4021e-01,  1.2312e-01],\n",
      "         [ 3.7656e-02, -3.9262e-02, -8.1995e-02,  ..., -1.3327e-01,\n",
      "          -6.4902e-02, -3.4989e-02]],\n",
      "\n",
      "        [[ 2.5132e-01,  1.1457e-01, -1.7896e-02,  ...,  2.9109e-02,\n",
      "           1.5731e-01, -3.9262e-02],\n",
      "         [-4.3536e-02, -1.6319e-01, -2.9566e-01,  ..., -1.2045e-01,\n",
      "           8.4661e-02, -2.2169e-02],\n",
      "         [-2.9138e-01, -2.7429e-01, -2.7002e-01,  ..., -1.4609e-01,\n",
      "          -7.3448e-02,  2.0563e-02],\n",
      "         ...,\n",
      "         [-2.1502e+00, -2.1460e+00, -2.2143e+00,  ...,  7.7431e-03,\n",
      "          -8.0338e-04,  3.4698e-03],\n",
      "         [-2.5292e-01, -2.4865e-01, -2.8284e-01,  ..., -2.6443e-02,\n",
      "           3.1541e-01,  7.5983e-01],\n",
      "         [ 2.0563e-02,  7.7431e-03, -4.3536e-02,  ..., -5.6914e-01,\n",
      "          -1.4609e-01,  5.6326e-01]],\n",
      "\n",
      "        [[-1.7173e-01, -1.2900e-01, -4.7809e-02,  ...,  4.7780e-01,\n",
      "           2.4277e-01,  1.1457e-01],\n",
      "         [ 2.1713e-01,  2.3422e-01,  2.5986e-01,  ...,  2.4704e-01,\n",
      "          -8.0338e-04, -1.2900e-01],\n",
      "         [ 3.8806e-01,  3.6669e-01,  3.0687e-01,  ..., -2.2728e-01,\n",
      "          -2.4010e-01, -2.4438e-01],\n",
      "         ...,\n",
      "         [-5.6487e-01, -6.2042e-01, -5.9905e-01,  ...,  1.7440e-01,\n",
      "          -1.6319e-01, -4.9222e-01],\n",
      "         [-6.3751e-01, -6.3751e-01, -6.3751e-01,  ...,  3.1969e-01,\n",
      "           2.9109e-02, -3.2129e-01],\n",
      "         [-3.5548e-01, -3.3839e-01, -3.3839e-01,  ...,  2.5986e-01,\n",
      "           6.3295e-02, -3.4989e-02]]], dtype=torch.float64), 'labels': tensor([[0, 0, 0,  ..., 0, 0, 0],\n",
      "        [0, 0, 0,  ..., 0, 0, 0],\n",
      "        [0, 0, 0,  ..., 0, 0, 0],\n",
      "        ...,\n",
      "        [0, 0, 0,  ..., 0, 0, 0],\n",
      "        [0, 0, 0,  ..., 0, 0, 0],\n",
      "        [0, 0, 0,  ..., 0, 0, 0]])}\n"
     ]
    }
   ],
   "source": [
    "data_path = '/Users/von/Downloads/ecgdata/val.pt'\n",
    "train_dataset = torch.load(data_path)\n",
    "\n",
    "print(train_dataset)\n",
    "train_dataset_sample = train_dataset[\"samples\"][0:100]\n",
    "train_dataset_labels = train_dataset[\"labels\"][0:100]"
   ]
  },
  {
   "cell_type": "code",
   "execution_count": 3,
   "metadata": {
    "ExecuteTime": {
     "end_time": "2023-09-09T06:18:38.384218Z",
     "start_time": "2023-09-09T06:18:38.381680Z"
    }
   },
   "outputs": [],
   "source": [
    "i = 0\n",
    "X_train = train_dataset['samples'][i][0]\n",
    "y_train = train_dataset['labels'][i]"
   ]
  },
  {
   "cell_type": "code",
   "execution_count": 4,
   "metadata": {
    "ExecuteTime": {
     "end_time": "2023-09-09T06:18:38.461367Z",
     "start_time": "2023-09-09T06:18:38.384084Z"
    }
   },
   "outputs": [
    {
     "data": {
      "text/plain": "[<matplotlib.lines.Line2D at 0x14316fdd0>]"
     },
     "execution_count": 4,
     "metadata": {},
     "output_type": "execute_result"
    },
    {
     "data": {
      "text/plain": "<Figure size 640x480 with 1 Axes>",
      "image/png": "[encoded data removed]"
     },
     "metadata": {},
     "output_type": "display_data"
    }
   ],
   "source": [
    "# data = np.load(\"sampleECG.npy\")\n",
    "plt.plot(X_train[0])"
   ]
  },
  {
   "cell_type": "markdown",
   "source": [],
   "metadata": {
    "collapsed": false
   }
  },
  {
   "cell_type": "code",
   "execution_count": 54,
   "outputs": [],
   "source": [
    "# save_directory = 'npy_files/'\n",
    "# for i in range(100):\n",
    "#     filename = f\"{save_directory}row_{i+1}.npy\"\n",
    "#     np.save(filename, train_dataset_sample[i][0])"
   ],
   "metadata": {
    "collapsed": false,
    "ExecuteTime": {
     "end_time": "2023-09-09T05:30:02.870739Z",
     "start_time": "2023-09-09T05:30:02.853187Z"
    }
   }
  },
  {
   "cell_type": "code",
   "execution_count": 8,
   "outputs": [
    {
     "ename": "FileNotFoundError",
     "evalue": "[Errno 2] No such file or directory: '/Users/von/Downloads/ecgdata/npy_files/row_0.npy'",
     "output_type": "error",
     "traceback": [
      "\u001B[0;31m---------------------------------------------------------------------------\u001B[0m",
      "\u001B[0;31mFileNotFoundError\u001B[0m                         Traceback (most recent call last)",
      "Cell \u001B[0;32mIn[8], line 1\u001B[0m\n\u001B[0;32m----> 1\u001B[0m test \u001B[38;5;241m=\u001B[39m np\u001B[38;5;241m.\u001B[39mload(\u001B[38;5;124m\"\u001B[39m\u001B[38;5;124m/Users/von/Downloads/ecgdata/npy_files/row_0.npy\u001B[39m\u001B[38;5;124m\"\u001B[39m)\n",
      "File \u001B[0;32m~/anaconda3/lib/python3.11/site-packages/numpy/lib/npyio.py:405\u001B[0m, in \u001B[0;36mload\u001B[0;34m(file, mmap_mode, allow_pickle, fix_imports, encoding, max_header_size)\u001B[0m\n\u001B[1;32m    403\u001B[0m     own_fid \u001B[38;5;241m=\u001B[39m \u001B[38;5;28;01mFalse\u001B[39;00m\n\u001B[1;32m    404\u001B[0m \u001B[38;5;28;01melse\u001B[39;00m:\n\u001B[0;32m--> 405\u001B[0m     fid \u001B[38;5;241m=\u001B[39m stack\u001B[38;5;241m.\u001B[39menter_context(\u001B[38;5;28mopen\u001B[39m(os_fspath(file), \u001B[38;5;124m\"\u001B[39m\u001B[38;5;124mrb\u001B[39m\u001B[38;5;124m\"\u001B[39m))\n\u001B[1;32m    406\u001B[0m     own_fid \u001B[38;5;241m=\u001B[39m \u001B[38;5;28;01mTrue\u001B[39;00m\n\u001B[1;32m    408\u001B[0m \u001B[38;5;66;03m# Code to distinguish from NumPy binary files and pickles.\u001B[39;00m\n",
      "\u001B[0;31mFileNotFoundError\u001B[0m: [Errno 2] No such file or directory: '/Users/von/Downloads/ecgdata/npy_files/row_0.npy'"
     ]
    }
   ],
   "source": [
    "# test = np.load(\"/Users/von/Downloads/ecgdata/npy_files/row_0.npy\")"
   ],
   "metadata": {
    "collapsed": false,
    "ExecuteTime": {
     "end_time": "2023-09-09T06:18:47.822253Z",
     "start_time": "2023-09-09T06:18:47.444456Z"
    }
   }
  },
  {
   "cell_type": "code",
   "execution_count": 10,
   "outputs": [
    {
     "name": "stdout",
     "output_type": "stream",
     "text": [
      "tensor([0, 0, 0, 0, 0, 0, 0, 0, 0, 0, 0, 0, 0, 0, 0, 0, 0, 0, 0, 0, 0, 0, 0, 0,\n",
      "        0, 0, 0, 0, 0, 0, 0, 0, 0, 0, 0, 0, 0, 1, 0, 0, 0, 0, 0, 0])\n"
     ]
    }
   ],
   "source": [
    "label_test = train_dataset_labels[1]\n",
    "print(label_test)"
   ],
   "metadata": {
    "collapsed": false,
    "ExecuteTime": {
     "end_time": "2023-09-09T06:19:01.557883Z",
     "start_time": "2023-09-09T06:19:01.553736Z"
    }
   }
  },
  {
   "cell_type": "code",
   "execution_count": 10,
   "outputs": [],
   "source": [],
   "metadata": {
    "collapsed": false,
    "ExecuteTime": {
     "end_time": "2023-09-09T06:19:02.364375Z",
     "start_time": "2023-09-09T06:19:02.357284Z"
    }
   }
  },
  {
   "cell_type": "code",
   "execution_count": 11,
   "outputs": [
    {
     "name": "stdout",
     "output_type": "stream",
     "text": [
      "38\n"
     ]
    }
   ],
   "source": [
    "indices = np.where(label_test == 1)[0][0] + 1\n",
    "print(indices)"
   ],
   "metadata": {
    "collapsed": false,
    "ExecuteTime": {
     "end_time": "2023-09-09T06:19:02.977866Z",
     "start_time": "2023-09-09T06:19:02.974935Z"
    }
   }
  },
  {
   "cell_type": "code",
   "execution_count": 11,
   "outputs": [],
   "source": [],
   "metadata": {
    "collapsed": false,
    "ExecuteTime": {
     "end_time": "2023-09-09T06:19:03.738322Z",
     "start_time": "2023-09-09T06:19:03.730839Z"
    }
   }
  },
  {
   "cell_type": "code",
   "execution_count": 12,
   "outputs": [
    {
     "name": "stdout",
     "output_type": "stream",
     "text": [
      "[38, 38, 14, 38, 14, 7, 38, 23, 36, 14, 38, 4, 38, 39, 37, 38, 38, 38, 4, 22, 37, 38, 14, 38, 38, 23, 38, 14, 7, 8, 38, 38, 31, 38, 5, 36, 38, 14, 22, 44, 38, 38, 38, 9, 38, 7, 37, 38, 38, 11, 38, 7, 31, 36, 29, 38, 38, 7, 38, 14, 38, 37, 38, 13, 38, 21, 1, 38, 14, 38, 38, 31, 38, 38, 14, 36, 38, 31, 38, 38, 8, 15, 38, 38, 38, 38, 38, 1, 38, 38, 10, 14, 4, 38, 16, 39, 38, 37, 38, 38]\n"
     ]
    }
   ],
   "source": [
    "lbl_top100 = [0 for i in range(100)]\n",
    "for i in range(100):\n",
    "    lbl_top100[i] = np.where(train_dataset_labels[i] == 1)[0][0] + 1\n",
    "\n",
    "print(lbl_top100)"
   ],
   "metadata": {
    "collapsed": false,
    "ExecuteTime": {
     "end_time": "2023-09-09T06:19:04.039630Z",
     "start_time": "2023-09-09T06:19:04.034568Z"
    }
   }
  },
  {
   "cell_type": "code",
   "execution_count": 13,
   "outputs": [
    {
     "name": "stdout",
     "output_type": "stream",
     "text": [
      "38\n"
     ]
    }
   ],
   "source": [
    "i = 0\n",
    "rsl = np.where(train_dataset_labels[i] == 1)[0][0] + 1\n",
    "print(rsl)"
   ],
   "metadata": {
    "collapsed": false,
    "ExecuteTime": {
     "end_time": "2023-09-09T06:19:06.690016Z",
     "start_time": "2023-09-09T06:19:06.685111Z"
    }
   }
  },
  {
   "cell_type": "code",
   "execution_count": 14,
   "outputs": [],
   "source": [
    "host = \"127.0.0.1\"\n",
    "port = 3306\n",
    "db_name = \"HUAWEI\"\n",
    "user_name = \"root\"\n",
    "password = \"QWSqws0710@\"\n",
    "\n",
    "import pymysql\n",
    "def create_connection():\n",
    "    conn = pymysql.connect(host=host,\n",
    "                           port=port,\n",
    "                           db=db_name,\n",
    "                           user=user_name,\n",
    "                           password=password\n",
    "                           )\n",
    "    return conn"
   ],
   "metadata": {
    "collapsed": false,
    "ExecuteTime": {
     "end_time": "2023-09-09T06:19:10.966989Z",
     "start_time": "2023-09-09T06:19:10.927302Z"
    }
   }
  },
  {
   "cell_type": "code",
   "execution_count": 15,
   "outputs": [],
   "source": [
    "\n",
    "\n",
    "conn = create_connection()\n",
    "for i in range(100):\n",
    "    i += 1\n",
    "    with conn.cursor() as cursor:\n",
    "        file_name = \"row_\" + str(i) + \".npy\"\n",
    "        sql = \"INSERT INTO Questions (file_name, correct_answer) VALUES (%s, %s)\"\n",
    "        cursor.execute(sql, [file_name, lbl_top100[i-1]])\n",
    "        conn.commit()\n",
    "conn.close()"
   ],
   "metadata": {
    "collapsed": false,
    "ExecuteTime": {
     "end_time": "2023-09-09T06:20:42.211685Z",
     "start_time": "2023-09-09T06:20:42.190155Z"
    }
   }
  },
  {
   "cell_type": "code",
   "execution_count": 16,
   "outputs": [
    {
     "name": "stdout",
     "output_type": "stream",
     "text": [
      "success\n"
     ]
    }
   ],
   "source": [
    "# conn = create_connection()\n",
    "# with conn.cursor() as cursor:\n",
    "#     file_name = \"row_\" + str(1) + \".npy\"\n",
    "#     sql = \"INSERT INTO Questions (file_name, correct_answer) VALUES (%s, %s)\"\n",
    "#     cursor.execute(sql, [file_name, lbl_top100[0]])\n",
    "#     conn.commit()\n",
    "# conn.close()\n",
    "# print(\"success\")"
   ],
   "metadata": {
    "collapsed": false,
    "ExecuteTime": {
     "end_time": "2023-09-09T06:10:20.566721Z",
     "start_time": "2023-09-09T06:10:20.556108Z"
    }
   }
  },
  {
   "cell_type": "code",
   "execution_count": null,
   "outputs": [],
   "source": [],
   "metadata": {
    "collapsed": false
   }
  }
 ],
 "metadata": {
  "kernelspec": {
   "display_name": "base",
   "language": "python",
   "name": "python3"
  },
  "language_info": {
   "codemirror_mode": {
    "name": "ipython",
    "version": 3
   },
   "file_extension": ".py",
   "mimetype": "text/x-python",
   "name": "python",
   "nbconvert_exporter": "python",
   "pygments_lexer": "ipython3",
   "version": "3.11.4"
  },
  "orig_nbformat": 4
 },
 "nbformat": 4,
 "nbformat_minor": 2
}
